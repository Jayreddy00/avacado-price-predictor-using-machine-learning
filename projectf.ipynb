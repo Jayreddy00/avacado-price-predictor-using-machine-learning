{
  "nbformat": 4,
  "nbformat_minor": 0,
  "metadata": {
    "colab": {
      "provenance": []
    },
    "kernelspec": {
      "name": "python3",
      "display_name": "Python 3"
    },
    "language_info": {
      "name": "python"
    }
  },
  "cells": [
    {
      "cell_type": "code",
      "execution_count": 1,
      "metadata": {
        "id": "BUtVUSrwov9M"
      },
      "outputs": [],
      "source": [
        "\n",
        "\n",
        "import pandas as pd\n",
        "import numpy as np\n",
        "import matplotlib.pyplot as plt\n",
        "import seaborn as sns\n",
        "from sklearn import metrics\n",
        "from sklearn.model_selection import train_test_split\n",
        "from sklearn.linear_model import LinearRegression\n",
        "from sklearn.linear_model import Lasso\n",
        "from sklearn.preprocessing import StandardScaler"
      ]
    },
    {
      "cell_type": "code",
      "source": [
        "data=pd.read_csv(\"/content/Avocado2.csv\")\n"
      ],
      "metadata": {
        "id": "o_oc3f4ApEan"
      },
      "execution_count": 2,
      "outputs": []
    },
    {
      "cell_type": "code",
      "source": [
        "data.head()\n",
        "\n",
        "data.isnull().sum()\n"
      ],
      "metadata": {
        "colab": {
          "base_uri": "https://localhost:8080/"
        },
        "id": "kszN3B9Opc7E",
        "outputId": "7fdff5bf-1ba8-4d58-b62c-f73b3b1e7099"
      },
      "execution_count": 3,
      "outputs": [
        {
          "output_type": "execute_result",
          "data": {
            "text/plain": [
              "Unnamed: 0      0\n",
              "AveragePrice    0\n",
              "Total Volume    0\n",
              "4046            0\n",
              "4225            0\n",
              "4770            0\n",
              "Total Bags      0\n",
              "Small Bags      0\n",
              "Large Bags      0\n",
              "XLarge Bags     0\n",
              "dtype: int64"
            ]
          },
          "metadata": {},
          "execution_count": 3
        }
      ]
    },
    {
      "cell_type": "code",
      "source": [
        "x=data.drop(['AveragePrice'] ,axis=1)\n",
        "y=data['AveragePrice']\n",
        "\n",
        "print(x)\n",
        "\n",
        "print(y)\n",
        "\n",
        "\n",
        "\n",
        "\n",
        "x_train,x_test,y_train,y_test=train_test_split(x,y,test_size=0.1,random_state=True)\n",
        "\n",
        "lin_reg_model=LinearRegression()\n",
        "\n",
        "reg=lin_reg_model.fit(x_train,y_train)\n",
        "\n",
        "w=reg.score(x_test,y_test)\n",
        "\n",
        "reg.score(x_train,y_train)\n",
        "\n",
        "train_prediction=lin_reg_model.predict(x_train)\n",
        "\n",
        "error_score=metrics.r2_score(y_train,train_prediction)\n",
        "print(error_score)\n",
        "\n",
        "\n",
        "\n",
        "from sklearn import linear_model\n",
        "lasso_reg=linear_model.Lasso(alpha=50,max_iter=100,tol=0.1)\n",
        "lasso_reg.fit(x_train,y_train)\n",
        "\n",
        "j=lasso_reg.score(x_test,y_test)\n",
        "trainl_prediction=lasso_reg.predict(x_train)\n",
        "error2_score=metrics.r2_score(y_train,trainl_prediction)\n",
        "print(error2_score)\n",
        "\n",
        "jj=lasso_reg.score(x_train,y_train)\n",
        "\n",
        "from sklearn.linear_model import Ridge\n",
        "Ridge_reg=linear_model.Ridge(alpha=50,max_iter=100,tol=0.1)\n",
        "Ridge_reg.fit(x_train,y_train)\n",
        "trainr_prediction=Ridge_reg.predict(x_train)\n",
        "error_scorer=metrics.r2_score(y_train,trainr_prediction)\n",
        "print(error_scorer)\n",
        "ff=Ridge_reg.score(x_train,y_train)\n",
        "\n",
        "ll=Ridge_reg.score(x_test,y_test)\n"
      ],
      "metadata": {
        "colab": {
          "base_uri": "https://localhost:8080/"
        },
        "id": "Jt6gS0nzpiuw",
        "outputId": "6046ef10-ae79-4945-a35b-3d4c68aafa78"
      },
      "execution_count": 4,
      "outputs": [
        {
          "output_type": "stream",
          "name": "stdout",
          "text": [
            "       Unnamed: 0  Total Volume     4046       4225    4770  Total Bags  \\\n",
            "0               0      64236.62  1036.74   54454.85   48.16     8696.87   \n",
            "1               1      54876.98   674.28   44638.81   58.33     9505.56   \n",
            "2               2     118220.22   794.70  109149.67  130.50     8145.35   \n",
            "3               3      78992.15  1132.00   71976.41   72.58     5811.16   \n",
            "4               4      51039.60   941.48   43838.39   75.78     6183.95   \n",
            "...           ...           ...      ...        ...     ...         ...   \n",
            "18244           7      17074.83  2046.96    1529.20    0.00    13498.67   \n",
            "18245           8      13888.04  1191.70    3431.50    0.00     9264.84   \n",
            "18246           9      13766.76  1191.92    2452.79  727.94     9394.11   \n",
            "18247          10      16205.22  1527.63    2981.04  727.01    10969.54   \n",
            "18248          11      17489.58  2894.77    2356.13  224.53    12014.15   \n",
            "\n",
            "       Small Bags  Large Bags  XLarge Bags  \n",
            "0         8603.62       93.25          0.0  \n",
            "1         9408.07       97.49          0.0  \n",
            "2         8042.21      103.14          0.0  \n",
            "3         5677.40      133.76          0.0  \n",
            "4         5986.26      197.69          0.0  \n",
            "...           ...         ...          ...  \n",
            "18244    13066.82      431.85          0.0  \n",
            "18245     8940.04      324.80          0.0  \n",
            "18246     9351.80       42.31          0.0  \n",
            "18247    10919.54       50.00          0.0  \n",
            "18248    11988.14       26.01          0.0  \n",
            "\n",
            "[18249 rows x 9 columns]\n",
            "0        1.33\n",
            "1        1.35\n",
            "2        0.93\n",
            "3        1.08\n",
            "4        1.28\n",
            "         ... \n",
            "18244    1.63\n",
            "18245    1.71\n",
            "18246    1.87\n",
            "18247    1.93\n",
            "18248    1.62\n",
            "Name: AveragePrice, Length: 18249, dtype: float64\n",
            "0.06741968065203785\n",
            "0.0507457853504939\n",
            "0.06740585397970578\n"
          ]
        }
      ]
    }
  ]
}